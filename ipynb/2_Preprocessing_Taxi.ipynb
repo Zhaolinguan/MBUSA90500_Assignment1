{
 "cells": [
  {
   "cell_type": "markdown",
   "metadata": {},
   "source": [
    "# Overview\n",
    "Over 7GB data are used for this project - indicating a computationally expensive problem even with powerful computers.\n",
    "Hence, additional tools and methods to tackle these limitations were needed, particularly methods such as serialization using\n",
    "feather, optimized languages for big data such as Apache Arrow and multiprocessing via the Python library."
   ]
  },
  {
   "cell_type": "markdown",
   "metadata": {},
   "source": [
    "## 1. Starting a Spark Session"
   ]
  },
  {
   "cell_type": "code",
   "execution_count": 19,
   "metadata": {},
   "outputs": [],
   "source": [
    "# Imports \n",
    "import numpy as np\n",
    "import pandas as pd\n",
    "import dataframe_image as dfi\n",
    "import seaborn as sns\n",
    "import matplotlib.pyplot as plt\n",
    "import matplotlib.dates as mdates\n",
    "import time\n",
    "import gc\n",
    "%matplotlib inline\n",
    "from pandas.plotting import table\n",
    "\n",
    "\n",
    "from pyspark.sql import SparkSession\n",
    "import pyspark.sql.functions as F\n",
    "from pyspark.sql.types import *\n",
    "from pyspark.sql.functions import col\n",
    "\n",
    "import warnings\n",
    "warnings.filterwarnings(\"ignore\")"
   ]
  },
  {
   "cell_type": "code",
   "execution_count": 2,
   "metadata": {},
   "outputs": [
    {
     "name": "stderr",
     "output_type": "stream",
     "text": [
      "21/08/16 05:09:08 WARN Utils: Your hostname, LAPTOP-38BBQ5BL resolves to a loopback address: 127.0.1.1; using 172.18.108.51 instead (on interface eth0)\n",
      "21/08/16 05:09:08 WARN Utils: Set SPARK_LOCAL_IP if you need to bind to another address\n",
      "WARNING: An illegal reflective access operation has occurred\n",
      "WARNING: Illegal reflective access by org.apache.spark.unsafe.Platform (file:/home/zhaoling/.local/lib/python3.8/site-packages/pyspark/jars/spark-unsafe_2.12-3.1.2.jar) to constructor java.nio.DirectByteBuffer(long,int)\n",
      "WARNING: Please consider reporting this to the maintainers of org.apache.spark.unsafe.Platform\n",
      "WARNING: Use --illegal-access=warn to enable warnings of further illegal reflective access operations\n",
      "WARNING: All illegal access operations will be denied in a future release\n",
      "21/08/16 05:09:10 WARN NativeCodeLoader: Unable to load native-hadoop library for your platform... using builtin-java classes where applicable\n",
      "Using Spark's default log4j profile: org/apache/spark/log4j-defaults.properties\n",
      "Setting default log level to \"WARN\".\n",
      "To adjust logging level use sc.setLogLevel(newLevel). For SparkR, use setLogLevel(newLevel).\n"
     ]
    }
   ],
   "source": [
    "# create a spark session\n",
    "spark = SparkSession.builder.getOrCreate()\n",
    "\n",
    "# Directly use Apache Arrow with pip3 install pyarrow\n",
    "spark.conf.set('spark.sql.execution.arrow.pyspark.enabled', True)"
   ]
  },
  {
   "cell_type": "code",
   "execution_count": 3,
   "metadata": {},
   "outputs": [
    {
     "name": "stderr",
     "output_type": "stream",
     "text": [
      "                                                                                \r"
     ]
    },
    {
     "name": "stdout",
     "output_type": "stream",
     "text": [
      "root\n",
      " |-- VendorID: string (nullable = true)\n",
      " |-- tpep_pickup_datetime: string (nullable = true)\n",
      " |-- tpep_dropoff_datetime: string (nullable = true)\n",
      " |-- passenger_count: string (nullable = true)\n",
      " |-- trip_distance: string (nullable = true)\n",
      " |-- RatecodeID: string (nullable = true)\n",
      " |-- store_and_fwd_flag: string (nullable = true)\n",
      " |-- PULocationID: string (nullable = true)\n",
      " |-- DOLocationID: string (nullable = true)\n",
      " |-- payment_type: string (nullable = true)\n",
      " |-- fare_amount: string (nullable = true)\n",
      " |-- extra: string (nullable = true)\n",
      " |-- mta_tax: string (nullable = true)\n",
      " |-- tip_amount: string (nullable = true)\n",
      " |-- tolls_amount: string (nullable = true)\n",
      " |-- improvement_surcharge: string (nullable = true)\n",
      " |-- total_amount: string (nullable = true)\n",
      " |-- congestion_surcharge: string (nullable = true)\n",
      "\n"
     ]
    }
   ],
   "source": [
    "sdf = spark.read.csv('../raw_data/2019/yellow_tripdata_2019-01.csv', header=True)\n",
    "sdf.printSchema()"
   ]
  },
  {
   "cell_type": "markdown",
   "metadata": {},
   "source": [
    "## 2. Schema & DataType Conversions\n",
    "- Schema very similar to creating a table in SQL (in fact its based on this) where you must specify what datatype the column is prior to adding data values.\n",
    "- View all data types here: https://spark.apache.org/docs/latest/sql-ref-datatypes.html\n"
   ]
  },
  {
   "cell_type": "code",
   "execution_count": 4,
   "metadata": {},
   "outputs": [],
   "source": [
    "## line 4-13 of the code from https://github.com/akiratwang/MAST30034_Python/blob/main/advanced_tutorials/Spark%20Tutorial.ipynb\n",
    "## author: Akira Takihara Wang\n",
    "\n",
    "ints = ('VendorID', 'passenger_count', 'RateCodeID', 'RatecodeID','payment_type', 'PULocationID', 'DOLocationID')\n",
    "doubles = ('trip_distance', 'fare_amount', 'extra', 'mta_tax', 'tip_amount', \n",
    "           'tolls_amount', 'improvement_surcharge', 'total_amount', 'congestion_surcharge')\n",
    "strings = ('store_and_fwd_flag',)\n",
    "dtimes = ('tpep_pickup_datetime', 'tpep_dropoff_datetime', )\n",
    "\n",
    "dtypes = {column: IntegerType() for column in ints}\n",
    "dtypes.update({column: DoubleType() for column in doubles})\n",
    "dtypes.update({column: StringType() for column in strings})\n",
    "dtypes.update({column: TimestampType() for column in dtimes})\n",
    "\n",
    "# keep null values out of certain columns by setting nullable to false\n",
    "notnull = ('passenger_count', 'PULocationID', 'DOLocationID', 'trip_distance',\n",
    "           'tpep_pickup_datetime', 'tpep_dropoff_datetime')\n",
    "cannull = ('VendorID', 'RateCodeID', 'RatecodeID','payment_type',  \n",
    "           'fare_amount', 'extra', 'mta_tax', 'tip_amount', \n",
    "           'tolls_amount', 'improvement_surcharge', 'total_amount', \n",
    "           'congestion_surcharge', 'store_and_fwd_flag')\n",
    "nullability = {column: False for column in notnull}\n",
    "nullability.update({column: True for column in cannull})"
   ]
  },
  {
   "cell_type": "code",
   "execution_count": 5,
   "metadata": {},
   "outputs": [
    {
     "data": {
      "text/plain": [
       "StructType(List(StructField(VendorID,IntegerType,true),StructField(tpep_pickup_datetime,TimestampType,false),StructField(tpep_dropoff_datetime,TimestampType,false),StructField(passenger_count,IntegerType,false),StructField(trip_distance,DoubleType,false),StructField(RatecodeID,IntegerType,true),StructField(store_and_fwd_flag,StringType,true),StructField(PULocationID,IntegerType,false),StructField(DOLocationID,IntegerType,false),StructField(payment_type,IntegerType,true),StructField(fare_amount,DoubleType,true),StructField(extra,DoubleType,true),StructField(mta_tax,DoubleType,true),StructField(tip_amount,DoubleType,true),StructField(tolls_amount,DoubleType,true),StructField(improvement_surcharge,DoubleType,true),StructField(total_amount,DoubleType,true),StructField(congestion_surcharge,DoubleType,true)))"
      ]
     },
     "execution_count": 5,
     "metadata": {},
     "output_type": "execute_result"
    }
   ],
   "source": [
    "# Construct schema\n",
    "schema = StructType()\n",
    "\n",
    "for column in sdf.columns:\n",
    "    schema.add(column, # column name\n",
    "               dtypes[column], # data type\n",
    "               nullability[column] # is nullable?\n",
    "              )\n",
    "\n",
    "schema"
   ]
  },
  {
   "cell_type": "code",
   "execution_count": 6,
   "metadata": {},
   "outputs": [
    {
     "name": "stderr",
     "output_type": "stream",
     "text": [
      "                                                                                \r"
     ]
    },
    {
     "data": {
      "text/plain": [
       "84399019"
      ]
     },
     "execution_count": 6,
     "metadata": {},
     "output_type": "execute_result"
    }
   ],
   "source": [
    "sdf_2019 = spark.read.csv('../raw_data/2019', header=True, schema = schema)\n",
    "raw_total_entries_19 = sdf_2019.count()\n",
    "raw_total_entries_19"
   ]
  },
  {
   "cell_type": "code",
   "execution_count": 7,
   "metadata": {},
   "outputs": [
    {
     "name": "stderr",
     "output_type": "stream",
     "text": [
      "                                                                                \r"
     ]
    },
    {
     "data": {
      "text/plain": [
       "24648499"
      ]
     },
     "execution_count": 7,
     "metadata": {},
     "output_type": "execute_result"
    }
   ],
   "source": [
    "sdf_2020 = spark.read.csv('../raw_data/2020', header=True, schema = schema)\n",
    "raw_total_entries_20 = sdf_2020.count()\n",
    "raw_total_entries_20"
   ]
  },
  {
   "cell_type": "code",
   "execution_count": 8,
   "metadata": {},
   "outputs": [],
   "source": [
    "# drop the features that are irrelevant\n",
    "drop_cols = ['VendorID', 'RateCodeID', 'RatecodeID',\n",
    "           'extra', 'mta_tax', 'tolls_amount', 'improvement_surcharge', \n",
    "           'congestion_surcharge', 'store_and_fwd_flag']\n",
    "\n",
    "\n",
    "sdf_2019 = sdf_2019.drop(*drop_cols)\n",
    "sdf_2020 = sdf_2020.drop(*drop_cols)"
   ]
  },
  {
   "cell_type": "code",
   "execution_count": 9,
   "metadata": {},
   "outputs": [
    {
     "name": "stdout",
     "output_type": "stream",
     "text": [
      "root\n",
      " |-- tpep_pickup_datetime: timestamp (nullable = true)\n",
      " |-- tpep_dropoff_datetime: timestamp (nullable = true)\n",
      " |-- passenger_count: integer (nullable = true)\n",
      " |-- trip_distance: double (nullable = true)\n",
      " |-- PULocationID: integer (nullable = true)\n",
      " |-- DOLocationID: integer (nullable = true)\n",
      " |-- payment_type: integer (nullable = true)\n",
      " |-- fare_amount: double (nullable = true)\n",
      " |-- tip_amount: double (nullable = true)\n",
      " |-- total_amount: double (nullable = true)\n",
      "\n"
     ]
    }
   ],
   "source": [
    "sdf_2019.printSchema()"
   ]
  },
  {
   "cell_type": "code",
   "execution_count": 11,
   "metadata": {},
   "outputs": [
    {
     "name": "stderr",
     "output_type": "stream",
     "text": [
      "                                                                                \r"
     ]
    }
   ],
   "source": [
    "raw_2019_summary = sdf_2019.describe().toPandas()"
   ]
  },
  {
   "cell_type": "code",
   "execution_count": 13,
   "metadata": {},
   "outputs": [
    {
     "name": "stderr",
     "output_type": "stream",
     "text": [
      "                                                                                \r"
     ]
    }
   ],
   "source": [
    "raw_2020_summary = sdf_2020.describe().toPandas()"
   ]
  },
  {
   "cell_type": "code",
   "execution_count": 17,
   "metadata": {},
   "outputs": [
    {
     "data": {
      "text/html": [
       "<div>\n",
       "<style scoped>\n",
       "    .dataframe tbody tr th:only-of-type {\n",
       "        vertical-align: middle;\n",
       "    }\n",
       "\n",
       "    .dataframe tbody tr th {\n",
       "        vertical-align: top;\n",
       "    }\n",
       "\n",
       "    .dataframe thead th {\n",
       "        text-align: right;\n",
       "    }\n",
       "</style>\n",
       "<table border=\"1\" class=\"dataframe\">\n",
       "  <thead>\n",
       "    <tr style=\"text-align: right;\">\n",
       "      <th></th>\n",
       "      <th>summary</th>\n",
       "      <th>passenger_count</th>\n",
       "      <th>trip_distance</th>\n",
       "      <th>PULocationID</th>\n",
       "      <th>DOLocationID</th>\n",
       "      <th>payment_type</th>\n",
       "      <th>fare_amount</th>\n",
       "      <th>tip_amount</th>\n",
       "      <th>total_amount</th>\n",
       "    </tr>\n",
       "  </thead>\n",
       "  <tbody>\n",
       "    <tr>\n",
       "      <th>0</th>\n",
       "      <td>count</td>\n",
       "      <td>84152418</td>\n",
       "      <td>84399019</td>\n",
       "      <td>84399019</td>\n",
       "      <td>84399019</td>\n",
       "      <td>84152418</td>\n",
       "      <td>84399019</td>\n",
       "      <td>84399019</td>\n",
       "      <td>84399019</td>\n",
       "    </tr>\n",
       "    <tr>\n",
       "      <th>1</th>\n",
       "      <td>mean</td>\n",
       "      <td>1.5626939442191667</td>\n",
       "      <td>3.0009277213280505</td>\n",
       "      <td>163.15761897659024</td>\n",
       "      <td>161.35274483462894</td>\n",
       "      <td>1.289363224239142</td>\n",
       "      <td>13.34399120077402</td>\n",
       "      <td>2.1950641269889553</td>\n",
       "      <td>19.124363231868188</td>\n",
       "    </tr>\n",
       "    <tr>\n",
       "      <th>2</th>\n",
       "      <td>stddev</td>\n",
       "      <td>1.207917425667764</td>\n",
       "      <td>8.091113794982272</td>\n",
       "      <td>66.01603813256101</td>\n",
       "      <td>70.25087854014987</td>\n",
       "      <td>0.4791325056800892</td>\n",
       "      <td>174.37490187136657</td>\n",
       "      <td>15.657058091860547</td>\n",
       "      <td>184.08736168504933</td>\n",
       "    </tr>\n",
       "    <tr>\n",
       "      <th>3</th>\n",
       "      <td>min</td>\n",
       "      <td>0</td>\n",
       "      <td>-37264.53</td>\n",
       "      <td>1</td>\n",
       "      <td>1</td>\n",
       "      <td>1</td>\n",
       "      <td>-1856.0</td>\n",
       "      <td>-221.0</td>\n",
       "      <td>-1871.8</td>\n",
       "    </tr>\n",
       "    <tr>\n",
       "      <th>4</th>\n",
       "      <td>max</td>\n",
       "      <td>9</td>\n",
       "      <td>45977.22</td>\n",
       "      <td>265</td>\n",
       "      <td>265</td>\n",
       "      <td>5</td>\n",
       "      <td>943274.8</td>\n",
       "      <td>141492.02</td>\n",
       "      <td>1084772.17</td>\n",
       "    </tr>\n",
       "  </tbody>\n",
       "</table>\n",
       "</div>"
      ],
      "text/plain": [
       "  summary     passenger_count       trip_distance        PULocationID  \\\n",
       "0   count            84152418            84399019            84399019   \n",
       "1    mean  1.5626939442191667  3.0009277213280505  163.15761897659024   \n",
       "2  stddev   1.207917425667764   8.091113794982272   66.01603813256101   \n",
       "3     min                   0           -37264.53                   1   \n",
       "4     max                   9            45977.22                 265   \n",
       "\n",
       "         DOLocationID        payment_type         fare_amount  \\\n",
       "0            84399019            84152418            84399019   \n",
       "1  161.35274483462894   1.289363224239142   13.34399120077402   \n",
       "2   70.25087854014987  0.4791325056800892  174.37490187136657   \n",
       "3                   1                   1             -1856.0   \n",
       "4                 265                   5            943274.8   \n",
       "\n",
       "           tip_amount        total_amount  \n",
       "0            84399019            84399019  \n",
       "1  2.1950641269889553  19.124363231868188  \n",
       "2  15.657058091860547  184.08736168504933  \n",
       "3              -221.0             -1871.8  \n",
       "4           141492.02          1084772.17  "
      ]
     },
     "execution_count": 17,
     "metadata": {},
     "output_type": "execute_result"
    }
   ],
   "source": [
    "raw_2019_summary"
   ]
  },
  {
   "cell_type": "code",
   "execution_count": 26,
   "metadata": {},
   "outputs": [
    {
     "data": {
      "image/png": "[encoded data removed]",
      "text/plain": [
       "<Figure size 864x144 with 1 Axes>"
      ]
     },
     "metadata": {
      "needs_background": "light"
     },
     "output_type": "display_data"
    }
   ],
   "source": [
    "fig, ax = plt.subplots(figsize=(12, 2)) # set size frame\n",
    "ax.xaxis.set_visible(False)  # hide the x axis\n",
    "ax.yaxis.set_visible(False)  # hide the y axis\n",
    "ax.set_frame_on(False)  # no visible frame, uncomment if size is ok\n",
    "tabla = table(ax, raw_2019_summary, loc='upper right', colWidths=[0.17]*len(raw_2019_summary.columns))  # where df is your data frame\n",
    "tabla.auto_set_font_size(False) # Activate set fontsize manually\n",
    "tabla.set_fontsize(12) # if ++fontsize is necessary ++colWidths\n",
    "tabla.scale(1.3, 1.8) # change size table\n",
    "plt.savefig('../plots/raw_2019_taxi_summary.png', transparent=True)"
   ]
  },
  {
   "cell_type": "code",
   "execution_count": 27,
   "metadata": {},
   "outputs": [
    {
     "data": {
      "image/png": "[encoded data removed]",
      "text/plain": [
       "<Figure size 864x144 with 1 Axes>"
      ]
     },
     "metadata": {
      "needs_background": "light"
     },
     "output_type": "display_data"
    }
   ],
   "source": [
    "fig, ax = plt.subplots(figsize=(12, 2)) # set size frame\n",
    "ax.xaxis.set_visible(False)  # hide the x axis\n",
    "ax.yaxis.set_visible(False)  # hide the y axis\n",
    "ax.set_frame_on(False)  # no visible frame, uncomment if size is ok\n",
    "tabla = table(ax, raw_2020_summary, loc='upper right', colWidths=[0.17]*len(raw_2020_summary.columns))  # where df is your data frame\n",
    "tabla.auto_set_font_size(False) # Activate set fontsize manually\n",
    "tabla.set_fontsize(12) # if ++fontsize is necessary ++colWidths\n",
    "tabla.scale(1.3, 1.8) # change size table\n",
    "plt.savefig('../plots/raw_2020_taxi_summary.png', transparent=True)"
   ]
  },
  {
   "cell_type": "markdown",
   "metadata": {},
   "source": [
    "## 3. Data Accuracy check\n"
   ]
  },
  {
   "cell_type": "markdown",
   "metadata": {},
   "source": [
    "### 3.1 Potentially erroneous total amount\n",
    "Some records have the feature 'total_amount' being less than 0. Sometimes negative total amounts are stored to show for amount refunded due to a variety of reasons e.g. incorrect charge on the card, cancelled trip but charged incorrectly etc. However, it does not make much physical sense. Considerating it is a small percentage of the data, it is reasonable to drop these records for the purpose of this project. "
   ]
  },
  {
   "cell_type": "code",
   "execution_count": 28,
   "metadata": {},
   "outputs": [
    {
     "name": "stderr",
     "output_type": "stream",
     "text": [
      "                                                                                \r"
     ]
    },
    {
     "data": {
      "text/html": [
       "<div>\n",
       "<style scoped>\n",
       "    .dataframe tbody tr th:only-of-type {\n",
       "        vertical-align: middle;\n",
       "    }\n",
       "\n",
       "    .dataframe tbody tr th {\n",
       "        vertical-align: top;\n",
       "    }\n",
       "\n",
       "    .dataframe thead th {\n",
       "        text-align: right;\n",
       "    }\n",
       "</style>\n",
       "<table border=\"1\" class=\"dataframe\">\n",
       "  <thead>\n",
       "    <tr style=\"text-align: right;\">\n",
       "      <th></th>\n",
       "      <th>summary</th>\n",
       "      <th>total_amount</th>\n",
       "    </tr>\n",
       "  </thead>\n",
       "  <tbody>\n",
       "    <tr>\n",
       "      <th>0</th>\n",
       "      <td>count</td>\n",
       "      <td>84399019</td>\n",
       "    </tr>\n",
       "    <tr>\n",
       "      <th>1</th>\n",
       "      <td>mean</td>\n",
       "      <td>19.124363231868188</td>\n",
       "    </tr>\n",
       "    <tr>\n",
       "      <th>2</th>\n",
       "      <td>stddev</td>\n",
       "      <td>184.08736168504933</td>\n",
       "    </tr>\n",
       "    <tr>\n",
       "      <th>3</th>\n",
       "      <td>min</td>\n",
       "      <td>-1871.8</td>\n",
       "    </tr>\n",
       "    <tr>\n",
       "      <th>4</th>\n",
       "      <td>max</td>\n",
       "      <td>1084772.17</td>\n",
       "    </tr>\n",
       "  </tbody>\n",
       "</table>\n",
       "</div>"
      ],
      "text/plain": [
       "  summary        total_amount\n",
       "0   count            84399019\n",
       "1    mean  19.124363231868188\n",
       "2  stddev  184.08736168504933\n",
       "3     min             -1871.8\n",
       "4     max          1084772.17"
      ]
     },
     "execution_count": 28,
     "metadata": {},
     "output_type": "execute_result"
    }
   ],
   "source": [
    "sdf_2019.select(\"total_amount\").describe().toPandas()"
   ]
  },
  {
   "cell_type": "code",
   "execution_count": null,
   "metadata": {},
   "outputs": [],
   "source": [
    "# pyspark implements approxQuentile to estimate the quantiles\n",
    "Q1 = sdf_2019.approxQuantile(\"total_amount\", [0.25], 0.05)\n",
    "Q3 = sdf_2019.approxQuantile(\"total_amount\", [0.75], 0.05)"
   ]
  },
  {
   "cell_type": "code",
   "execution_count": 38,
   "metadata": {},
   "outputs": [],
   "source": [
    "IQR = Q3[0] - Q1[0]\n",
    "\n",
    "lower_bound = Q1[0] - 1.5 * IQR\n",
    "higher_bound = Q3[0] + 1.5 * IQR"
   ]
  },
  {
   "cell_type": "code",
   "execution_count": 39,
   "metadata": {},
   "outputs": [
    {
     "data": {
      "text/plain": [
       "-2.6949999999999985"
      ]
     },
     "execution_count": 39,
     "metadata": {},
     "output_type": "execute_result"
    }
   ],
   "source": [
    "lower_bound"
   ]
  },
  {
   "cell_type": "code",
   "execution_count": 40,
   "metadata": {},
   "outputs": [
    {
     "data": {
      "text/plain": [
       "33.824999999999996"
      ]
     },
     "execution_count": 40,
     "metadata": {},
     "output_type": "execute_result"
    }
   ],
   "source": [
    "higher_bound"
   ]
  },
  {
   "cell_type": "markdown",
   "metadata": {},
   "source": [
    "#### 3.2 Unreasonable trip distance \n",
    "A few records have unrealistic trip distances like 0 or over 1000 miles. 0 mile may be due to cancelled trips, while extremely long distances are very unlikely and could be caused by erroneous entries. We set the threshold at 1000 miles because we are not interested in extremely long trip distances - regardless it is erroneous or not. "
   ]
  },
  {
   "cell_type": "code",
   "execution_count": null,
   "metadata": {},
   "outputs": [],
   "source": [
    "sdf_2019.select(\"trip_distance\").describe().toPandas()"
   ]
  },
  {
   "cell_type": "code",
   "execution_count": 41,
   "metadata": {},
   "outputs": [
    {
     "name": "stderr",
     "output_type": "stream",
     "text": [
      "                                                                                \r"
     ]
    }
   ],
   "source": [
    "Q1 = sdf_2019.approxQuantile(\"trip_distance\", [0.25], 0.05)\n",
    "Q3 = sdf_2019.approxQuantile(\"trip_distance\", [0.75], 0.05)\n",
    "IQR = Q3[0] - Q1[0]\n",
    "\n",
    "lower_bound = Q1[0] - 1.5 * IQR\n",
    "higher_bound = Q3[0] + 1.5 * IQR"
   ]
  },
  {
   "cell_type": "code",
   "execution_count": 42,
   "metadata": {},
   "outputs": [
    {
     "data": {
      "text/plain": [
       "-1.9500000000000002"
      ]
     },
     "execution_count": 42,
     "metadata": {},
     "output_type": "execute_result"
    }
   ],
   "source": [
    "lower_bound"
   ]
  },
  {
   "cell_type": "code",
   "execution_count": 43,
   "metadata": {},
   "outputs": [
    {
     "data": {
      "text/plain": [
       "5.8100000000000005"
      ]
     },
     "execution_count": 43,
     "metadata": {},
     "output_type": "execute_result"
    }
   ],
   "source": [
    "higher_bound"
   ]
  },
  {
   "cell_type": "markdown",
   "metadata": {},
   "source": [
    "### 3.3. Zero passenger count\n",
    "Some unusual passenger counts of 0 also draw my attention. The 0s may be instances where the driver forgot to enter any value, or no passenger was taken. In this case, I decided to filter out these instances in the dataset. "
   ]
  },
  {
   "cell_type": "code",
   "execution_count": null,
   "metadata": {},
   "outputs": [],
   "source": [
    "sdf_2019.select(\"passenger_count\").describe().toPandas()"
   ]
  },
  {
   "cell_type": "markdown",
   "metadata": {},
   "source": [
    "### 3.4 Unusual dates\n",
    "The dataset also contains some erroneous dates that don't fit into the selected time frame, like from the past 2018 or the future 2024. Although it is very likely that there was some mistyping, these entries are not useful for our analysis and should be discarded. "
   ]
  },
  {
   "cell_type": "markdown",
   "metadata": {},
   "source": [
    "## 4. SQL Data Processing"
   ]
  },
  {
   "cell_type": "code",
   "execution_count": 14,
   "metadata": {},
   "outputs": [],
   "source": [
    "## Creating a SQL Table with an existing Spark DataFrame\n",
    "sdf_2019.createOrReplaceTempView(\"yellowtaxi_2019\")\n",
    "sdf_2020.createOrReplaceTempView(\"yellowtaxi_2020\")"
   ]
  },
  {
   "cell_type": "code",
   "execution_count": 15,
   "metadata": {},
   "outputs": [],
   "source": [
    "# data cleaning\n",
    "query = \"\"\"\n",
    "    SELECT\n",
    "        *\n",
    "    FROM\n",
    "        yellowtaxi_2019 y19\n",
    "    WHERE \n",
    "        y19.total_amount < 34\n",
    "        AND y19.total_amount > 0\n",
    "        AND y19.trip_distance < 10\n",
    "        AND y19.trip_distance > 0\n",
    "        AND y19.passenger_count > 0\n",
    "        AND y19.tpep_pickup_datetime >= '2019-01-01'\n",
    "        AND y19.tpep_pickup_datetime < '2020-01-01'\n",
    "        AND y19.tpep_dropoff_datetime >= '2019-01-01'\n",
    "        AND y19.tpep_dropoff_datetime < '2020-01-01'\n",
    "        AND y19.PULocationID >= 1\n",
    "        AND y19.PULocationID <= 263\n",
    "        AND y19.DOLocationID >= 1y19\n",
    "        AND y19.DOLocationID <= 263\n",
    "\"\"\"\n",
    "# create a new sdf \n",
    "processed_2019 = spark.sql(query)\n"
   ]
  },
  {
   "cell_type": "code",
   "execution_count": 16,
   "metadata": {},
   "outputs": [
    {
     "name": "stderr",
     "output_type": "stream",
     "text": [
      "                                                                                \r"
     ]
    },
    {
     "data": {
      "text/plain": [
       "81757208"
      ]
     },
     "execution_count": 16,
     "metadata": {},
     "output_type": "execute_result"
    }
   ],
   "source": [
    "processed_total_entries_19 = processed_2019.count()\n",
    "processed_total_entries_19"
   ]
  },
  {
   "cell_type": "code",
   "execution_count": 17,
   "metadata": {},
   "outputs": [],
   "source": [
    "# data cleaning\n",
    "query1 = \"\"\"\n",
    "    SELECT\n",
    "        *\n",
    "    FROM\n",
    "        yellowtaxi_2020 y20\n",
    "    WHERE \n",
    "        y20.total_amount < 34\n",
    "        AND y20.total_amount > 0\n",
    "        AND y20.trip_distance < 10\n",
    "        AND y20.trip_distance > 0\n",
    "        AND y20.passenger_count > 0\n",
    "        AND y20.tpep_pickup_datetime >= '2020-01-01'\n",
    "        AND y20.tpep_pickup_datetime < '2021-01-01'\n",
    "        AND y20.tpep_dropoff_datetime >= '2020-01-01'\n",
    "        AND y20.tpep_dropoff_datetime < '2021-01-01'\n",
    "        AND y20.PULocationID >= 1\n",
    "        AND y20.PULocationID <= 263\n",
    "        AND y20.DOLocationIDy20 >= 1\n",
    "        AND y20.DOLocationID <= 263\n",
    "\"\"\"\n",
    "# create a new sdf \n",
    "processed_2020 = spark.sql(query1)"
   ]
  },
  {
   "cell_type": "code",
   "execution_count": 18,
   "metadata": {},
   "outputs": [
    {
     "name": "stderr",
     "output_type": "stream",
     "text": [
      "                                                                                \r"
     ]
    },
    {
     "data": {
      "text/plain": [
       "22955907"
      ]
     },
     "execution_count": 18,
     "metadata": {},
     "output_type": "execute_result"
    }
   ],
   "source": [
    "processed_total_entries_20 = processed_2020.count()\n",
    "processed_total_entries_20"
   ]
  },
  {
   "cell_type": "code",
   "execution_count": 19,
   "metadata": {},
   "outputs": [
    {
     "data": {
      "text/plain": [
       "334"
      ]
     },
     "execution_count": 19,
     "metadata": {},
     "output_type": "execute_result"
    }
   ],
   "source": [
    "## free memory space \n",
    "del sdf_2019, sdf_2020\n",
    "gc.collect()"
   ]
  },
  {
   "cell_type": "code",
   "execution_count": 28,
   "metadata": {},
   "outputs": [],
   "source": [
    "## Update SQL Table with an existing Spark DataFrame\n",
    "processed_2019.createOrReplaceTempView(\"yellowtaxi_2019\")\n",
    "processed_2020.createOrReplaceTempView(\"yellowtaxi_2020\")"
   ]
  },
  {
   "cell_type": "markdown",
   "metadata": {},
   "source": [
    "### Aggregating 2020 dataset by date"
   ]
  },
  {
   "cell_type": "code",
   "execution_count": 20,
   "metadata": {},
   "outputs": [],
   "source": [
    "## store only dates not time \n",
    "query = \"\"\"\n",
    "    SELECT\n",
    "        TO_DATE(tpep_pickup_datetime) AS pickup_date,\n",
    "        TO_DATE(tpep_dropoff_datetime) AS dropoff_date,\n",
    "        y20.passenger_count,\n",
    "        y20.trip_distance,\n",
    "        y20.payment_type,\n",
    "        y20.fare_amount,\n",
    "        y20.tip_amount, \n",
    "        y20.total_amount, \n",
    "        y20.PULocationID,\n",
    "        y20.DOLocationID\n",
    "    FROM\n",
    "        yellowtaxi_2020 y20\n",
    "    ORDER BY \n",
    "        pickup_date\n",
    "\"\"\"\n",
    "\n",
    "# create a new sdf \n",
    "daily_2020 = spark.sql(query)"
   ]
  },
  {
   "cell_type": "code",
   "execution_count": 21,
   "metadata": {},
   "outputs": [],
   "source": [
    "from pyspark.sql.functions import mean\n",
    "# create a sdf for the total pickup trips per zone\n",
    "Pickuplocation_trip_count_20 = daily_2020.groupBy(\"PULocationID\").count()\n",
    "Pickuplocation_trip_count_20.toPandas().to_csv('../processed_data/Pickuplocation_trip_count_2020.csv',header=True)\n",
    "\n",
    "# create a sdf for the total dropoff trips per zone\n",
    "Dropofflocation_trip_count_20 = daily_2020.groupBy(\"DOLocationID\").count()\n",
    "Dropofflocation_trip_count_20.toPandas().to_csv('../processed_data/Dropofflocation_trip_count_2020.csv',header=True)"
   ]
  },
  {
   "cell_type": "code",
   "execution_count": null,
   "metadata": {},
   "outputs": [],
   "source": [
    "daily_counts_20 = daily_2020.groupBy(\"pickup_date\") \\\n",
    "    .agg(mean(\"total_amount\").alias(\"Average Trip Amount USD$\"),\n",
    "         mean(\"trip_distance\").alias(\"Average Distance in Miles\"), \n",
    "         mean(\"passenger_count\").alias(\"Average passenger count\")) \\\n",
    "    .orderBy(\"pickup_date\")\n",
    "\n",
    "daily_counts_20.toPandas().to_csv('../processed_data/daily_counts_2020.csv',header=True)"
   ]
  },
  {
   "cell_type": "markdown",
   "metadata": {},
   "source": [
    "### Aggregating 2019 dataset by date"
   ]
  },
  {
   "cell_type": "code",
   "execution_count": 26,
   "metadata": {},
   "outputs": [],
   "source": [
    "## store only dates not time \n",
    "query = \"\"\"\n",
    "    SELECT\n",
    "        TO_DATE(tpep_pickup_datetime) AS pickup_date,\n",
    "        TO_DATE(tpep_dropoff_datetime) AS dropoff_date,\n",
    "        y19.passenger_count,\n",
    "        y19.trip_distance,\n",
    "        y19.payment_type,\n",
    "        y19.fare_amount,\n",
    "        y19.tip_amount, \n",
    "        y19.total_amount, \n",
    "        y19.PULocationID,\n",
    "        y19.DOLocationID\n",
    "    FROM\n",
    "        yellowtaxi_2019 y19\n",
    "    ORDER BY \n",
    "        pickup_date\n",
    "\"\"\"\n",
    "\n",
    "# create a new sdf \n",
    "daily_2019 = spark.sql(query)"
   ]
  },
  {
   "cell_type": "code",
   "execution_count": 27,
   "metadata": {},
   "outputs": [
    {
     "name": "stderr",
     "output_type": "stream",
     "text": [
      "                                                                                \r"
     ]
    }
   ],
   "source": [
    "# create a sdf for the total pickup trips per zone\n",
    "Pickuplocation_trip_count_19 = daily_2019.groupBy(\"PULocationID\").count()\n",
    "Pickuplocation_trip_count_19.toPandas().to_csv('../processed_data/Pickuplocation_trip_count_2019.csv',header=True)\n",
    "\n",
    "# create a sdf for the total dropoff trips per zone\n",
    "Dropofflocation_trip_count_19 = daily_2019.groupBy(\"DOLocationID\").count()\n",
    "Dropofflocation_trip_count_19.toPandas().to_csv('../processed_data/Dropofflocation_trip_count_2019.csv',header=True)"
   ]
  },
  {
   "cell_type": "code",
   "execution_count": null,
   "metadata": {},
   "outputs": [],
   "source": [
    "daily_counts_19 = daily_2019.groupBy(\"pickup_date\") \\\n",
    "    .agg(mean(\"tot19al_amount\").alias(\"Average Trip Amount USD$\"),\n",
    "         mean(\"trip_distance\").alias(\"Average Distance in Miles\"), \n",
    "         mean(\"passenger_count\").alias(\"Average passenger count\")) \\\n",
    "    .orderBy(\"pickup_date\")\n",
    "\n",
    "daily_counts_19.toPandas().to_csv('../processed_data/daily_counts_2019.csv',header=True)"
   ]
  },
  {
   "cell_type": "markdown",
   "metadata": {},
   "source": [
    "# Exploratory Data Analysis\n",
    "\n",
    "* Exploratory Data Analysis refers to the critical process of performing initial investigations on data so as to discover patterns,to spot anomalies,to test hypothesis and to check assumptions with the help of summary statistics and graphical representations.\n",
    "\n",
    "This section allows me to explore some questions that may be arised with the dataset and help navigating through the research. "
   ]
  },
  {
   "cell_type": "markdown",
   "metadata": {},
   "source": [
    "### a. How does the monthy trip numbers in 2020 compared to 2019?\n"
   ]
  },
  {
   "cell_type": "code",
   "execution_count": null,
   "metadata": {},
   "outputs": [],
   "source": [
    "# data selection in 2019\n",
    "query = \"\"\"\n",
    "    SELECT\n",
    "        DATE_TRUNC('MM', y19.tpep_pickup_datetime) AS date_month,\n",
    "        COUNT(*) AS monthly_trip_count\n",
    "    FROM\n",
    "        yellowtaxi_2019 y19\n",
    "    GROUP BY          \n",
    "        date_month\n",
    "\"\"\"\n",
    "# create a new sdf \n",
    "monthly_tripcount_2019 = spark.sql(query).toPandas()\n",
    "\n",
    "monthly_tripcount_2019.to_csv('../processed_data/monthly_tripcount_2019.csv',header=True)\n",
    "monthly_tripcount_2019"
   ]
  },
  {
   "cell_type": "code",
   "execution_count": null,
   "metadata": {},
   "outputs": [],
   "source": [
    "# data selection in 2020\n",
    "query = \"\"\"\n",
    "    SELECT\n",
    "        DATE_TRUNC('MM', y20.tpep_pickup_datetime) AS date_month,\n",
    "        COUNT(*) AS monthly_trip_count\n",
    "    FROM\n",
    "        yellowtaxi_2020 y20\n",
    "    GROUP BY\n",
    "        date_month\n",
    "\"\"\"\n",
    "# create a new sdf \n",
    "monthly_tripcount_2020 = spark.sql(query).toPandas()\n",
    "monthly_tripcount_2020.to_csv('../processed_data/monthly_tripcount_2020.csv',header=True)\n",
    "monthly_tripcount_2020"
   ]
  },
  {
   "cell_type": "code",
   "execution_count": null,
   "metadata": {
    "scrolled": true
   },
   "outputs": [],
   "source": [
    "# Plot out the monthly trip count\n",
    "fig, ax = plt.subplots(figsize=(25,8))\n",
    "sns.lineplot(x='date_month', y='monthly_trip_count', data=monthly_tripcount_2019, ax=ax, color='r')\n",
    "sns.lineplot(x='date_month', y='monthly_trip_count', data=monthly_tripcount_2020, ax=ax, color='g')\n",
    "\n",
    "ax.set_title(\"Monthly Trip Count\")\n",
    "ax.set_ylabel(\"Trip Count (100,000)\")\n",
    "ax.set_xlabel(\"Pick Up Date\")\n",
    "ax.xaxis.set_major_locator(mdates.MonthLocator())\n",
    "ax.xaxis.set_major_formatter(mdates.DateFormatter(\"%b-%Y\"))\n",
    "\n",
    "plt.show()\n",
    "fig.savefig(\"../plots/Monthly_Trip_Count.png\")"
   ]
  },
  {
   "cell_type": "markdown",
   "metadata": {},
   "source": [
    "### b. How does payment type change from 2019 to 2020?\n",
    "\n"
   ]
  },
  {
   "cell_type": "code",
   "execution_count": null,
   "metadata": {},
   "outputs": [],
   "source": [
    "# total entries counts: \n",
    "# processed_total_entries_19\n",
    "# processed_total_entries_20"
   ]
  },
  {
   "cell_type": "code",
   "execution_count": null,
   "metadata": {},
   "outputs": [],
   "source": [
    "## data selection o 2019 data \n",
    "query = \"\"\"\n",
    "    SELECT\n",
    "        CASE WHEN y19.payment_type = 1 THEN \"Credit Card\"\n",
    "             WHEN y19.payment_type = 2 THEN \"Cash\"\n",
    "             WHEN y19.payment_type = 3 THEN \"No Charge\"\n",
    "             WHEN y19.payment_type = 4 THEN \"Dispute\"\n",
    "             WHEN y19.payment_type = 5 THEN \"Unknown\"\n",
    "             WHEN y19.payment_type = 6 THEN \"Voided Trip\"\n",
    "             END AS payment_type,\n",
    "        ROUND(COUNT(*)/1000, 2) AS trips_in_k,\n",
    "        ROUND(MEAN(y19.fare_amount), 2) AS ave_fare\n",
    "    FROM\n",
    "        yellowtaxi_2019 y19\n",
    "    GROUP BY \n",
    "        payment_type\n",
    "\"\"\"\n",
    "\n",
    "payment_type_19 = spark.sql(query).toPandas()\n",
    "payment_type_19['percentage_trips'] = round((payment_type_19['trips_in_k']*1000)/processed_total_entries_19, 2)\n",
    "payment_type_19.to_csv('../processed_data/payment_type_2019.csv',header=True)\n",
    "payment_type_19"
   ]
  },
  {
   "cell_type": "code",
   "execution_count": null,
   "metadata": {},
   "outputs": [],
   "source": [
    "## data selection on 2020 data \n",
    "query = \"\"\"\n",
    "    SELECT\n",
    "        CASE WHEN y20.payment_type = 1 THEN \"Credit Card\"\n",
    "             WHEN y20.payment_type = 2 THEN \"Cash\"\n",
    "             WHEN y20.payment_type = 3 THEN \"No Charge\"\n",
    "             WHEN y20.payment_type = 4 THEN \"Dispute\"\n",
    "             WHEN y20.payment_type = 5 THEN \"Unknown\"\n",
    "             WHEN y20.payment_type = 6 THEN \"Voided Trip\"\n",
    "             END AS payment_type,\n",
    "        ROUND(COUNT(*)/1000, 2) AS trips_in_k,\n",
    "        ROUND(MEAN(y20.fare_amount), 2) AS ave_fare\n",
    "    FROM\n",
    "        yellowtaxi_2020 y20\n",
    "    GROUP BY \n",
    "        payment_type\n",
    "\"\"\"\n",
    "\n",
    "payment_type_20 = spark.sql(query).toPandas()\n",
    "payment_type_20['percentage_trips'] = round((payment_type_20['trips_in_k']*1000)/processed_total_entries_20, 2)\n",
    "payment_type_20.to_csv('../processed_data/payment_type_2020.csv',header=True)\n",
    "payment_type_20"
   ]
  },
  {
   "cell_type": "markdown",
   "metadata": {},
   "source": [
    "## 6. Writing to Disk\n",
    "- Optional: csv, pickle, feather, or parquet"
   ]
  },
  {
   "cell_type": "code",
   "execution_count": null,
   "metadata": {},
   "outputs": [],
   "source": [
    "processed_2019.printSchema()"
   ]
  },
  {
   "cell_type": "code",
   "execution_count": null,
   "metadata": {},
   "outputs": [],
   "source": [
    "processed_2019.write.format('csv').option('header',True).mode('overwrite').option('sep',',').save('../preprocessed_data/preprocessed_2019.csv')"
   ]
  },
  {
   "cell_type": "code",
   "execution_count": null,
   "metadata": {},
   "outputs": [],
   "source": [
    "processed_2020.write.format('csv').option('header',True).mode('overwrite').option('sep',',').save('../preprocessed_data/preprocessed_2020.csv')"
   ]
  },
  {
   "cell_type": "code",
   "execution_count": null,
   "metadata": {},
   "outputs": [],
   "source": [
    "# output to csv files \n",
    "# processed_2019.write.csv('../preprocessed_data/preprocessed_2019.csv')\n",
    "# processed_2020.write.csv('../preprocessed_data/preprocessed_2020.csv')"
   ]
  },
  {
   "cell_type": "markdown",
   "metadata": {},
   "source": [
    "### Parquet:\n",
    "- Spark introduces its' own type which is a **Parquet File**.\n",
    "- Parquet files are stored as a directory structure which contains data files, metadata, and some compressed files.|\n",
    "- If the file already exists, it cannot be overwritten without removing the existing file."
   ]
  },
  {
   "cell_type": "code",
   "execution_count": null,
   "metadata": {},
   "outputs": [],
   "source": [
    "## code taken from https://github.com/akiratwang/MAST30034_Python/blob/main/advanced_tutorials/Spark%20Tutorial.ipynb\n",
    "## author: Akira Takihara Wang\n",
    "# Check to see if the fpath already exists. If so, remove it.\n",
    "from shutil import rmtree\n",
    "from os import path\n",
    "\n",
    "fpath = '../preprocessed_data/aggregated_2019.parquet/'\n",
    "if path.exists(fpath):\n",
    "    rmtree(fpath)"
   ]
  },
  {
   "cell_type": "code",
   "execution_count": null,
   "metadata": {},
   "outputs": [],
   "source": [
    "# processed_2019.write.format('parquet').save('../preprocessed_data/aggregated_2019.parquet')\n",
    "# processed_2020.write.format('parquet').save('../preprocessed_data/aggregated_2020.parquet')"
   ]
  }
 ],
 "metadata": {
  "kernelspec": {
   "display_name": "Python 3",
   "language": "python",
   "name": "python3"
  },
  "language_info": {
   "codemirror_mode": {
    "name": "ipython",
    "version": 3
   },
   "file_extension": ".py",
   "mimetype": "text/x-python",
   "name": "python",
   "nbconvert_exporter": "python",
   "pygments_lexer": "ipython3",
   "version": "3.9.2"
  },
  "varInspector": {
   "cols": {
    "lenName": 16,
    "lenType": 16,
    "lenVar": 40
   },
   "kernels_config": {
    "python": {
     "delete_cmd_postfix": "",
     "delete_cmd_prefix": "del ",
     "library": "var_list.py",
     "varRefreshCmd": "print(var_dic_list())"
    },
    "r": {
     "delete_cmd_postfix": ") ",
     "delete_cmd_prefix": "rm(",
     "library": "var_list.r",
     "varRefreshCmd": "cat(var_dic_list()) "
    }
   },
   "types_to_exclude": [
    "module",
    "function",
    "builtin_function_or_method",
    "instance",
    "_Feature"
   ],
   "window_display": false
  }
 },
 "nbformat": 4,
 "nbformat_minor": 4
}
