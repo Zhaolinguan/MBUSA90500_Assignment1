{
 "cells": [
  {
   "cell_type": "markdown",
   "id": "09479da0",
   "metadata": {},
   "source": [
    "# Data Analytics Part 2"
   ]
  },
  {
   "cell_type": "code",
   "execution_count": 2,
   "id": "54862898",
   "metadata": {},
   "outputs": [],
   "source": [
    "# Imports\n",
    "import numpy as np\n",
    "import pandas as pd\n",
    "import glob\n",
    "import datetime\n",
    "import os\n",
    "from matplotlib import pyplot as plt\n",
    "import seaborn as sns\n",
    "\n",
    "import warnings\n",
    "warnings.filterwarnings(\"ignore\")"
   ]
  },
  {
   "cell_type": "code",
   "execution_count": 3,
   "id": "excited-february",
   "metadata": {},
   "outputs": [],
   "source": [
    "########## import all processed datasets\n",
    "# Import count data\n",
    "count_21 = pd.read_csv(\"../processed_data/count_21.csv\").iloc[:,1:]\n",
    "count_21['Date_Time'] = pd.to_datetime(count_21['Date_Time'])\n",
    "count_22 = pd.read_csv(\"../processed_data/count_22.csv\").iloc[:,1:]\n",
    "count_22['Date_Time'] = pd.to_datetime(count_22['Date_Time'])\n",
    "\n",
    "# Import rain data \n",
    "rain_21 = pd.read_csv(\"../processed_data/rain_21.csv\").iloc[:,1:]\n",
    "rain_21['Date'] = pd.to_datetime(rain_21['Date'])\n",
    "rain_22 = pd.read_csv(\"../processed_data/rain_22.csv\").iloc[:,1:]\n",
    "rain_22['Date'] = pd.to_datetime(rain_22['Date'])\n",
    "\n",
    "# Import temperature data\n",
    "temp_21 = pd.read_csv(\"../processed_data/temp_21.csv\").iloc[:,1:]\n",
    "temp_21['Date'] = pd.to_datetime(temp_21['Date'])\n",
    "temp_22 = pd.read_csv(\"../processed_data/temp_22.csv\").iloc[:,1:]\n",
    "temp_22['Date'] = pd.to_datetime(temp_22['Date'])\n",
    "\n",
    "# Import solar data \n",
    "solar_21 = pd.read_csv(\"../processed_data/solar_21.csv\").iloc[:,1:]\n",
    "solar_21['Date'] = pd.to_datetime(solar_21['Date'])\n",
    "solar_22 = pd.read_csv(\"../processed_data/solar_22.csv\").iloc[:,1:]\n",
    "solar_22['Date'] = pd.to_datetime(solar_22['Date'])"
   ]
  },
  {
   "cell_type": "markdown",
   "id": "2004d20d",
   "metadata": {},
   "source": [
    "## Q9\n",
    "\n",
    "Consider the time series of the daily overall pedestrian count for each sensor in May 2021 and in May 2022.\n",
    "Comparing these two months, which sensor's time series changed the most and by how much? [you should use\n",
    "Euclidean distance to compare two time series]"
   ]
  },
  {
   "cell_type": "code",
   "execution_count": 4,
   "id": "immediate-messenger",
   "metadata": {},
   "outputs": [],
   "source": [
    "def euclidean_ts(ts1, ts2):\n",
    "    '''take two time series of type Series of same length and compute the Euclidean distance between them'''\n",
    "    return np.linalg.norm(ts1-ts2)"
   ]
  },
  {
   "cell_type": "code",
   "execution_count": 7,
   "id": "painful-tragedy",
   "metadata": {},
   "outputs": [],
   "source": [
    "def daily_count_bysensor_inMay(df):\n",
    "    # filter time period of interest\n",
    "    df = df[(df.Date_Time.dt.month == 5)]\n",
    "    # take the daily average \n",
    "    s = df.groupby([df['Sensor_ID'], df['Date_Time'].dt.date])['Hourly_Counts'].sum()\n",
    "    new_df = s.to_frame(name=\"Hourly_Counts\")\n",
    "    new_df.reset_index(inplace=True)\n",
    "    # sort by sensors\n",
    "    new_df.sort_values(['Sensor_ID', 'Date_Time'], inplace=True)\n",
    "    return new_df"
   ]
  },
  {
   "cell_type": "code",
   "execution_count": 8,
   "id": "laden-louisiana",
   "metadata": {},
   "outputs": [
    {
     "data": {
      "text/html": [
       "<div>\n",
       "<style scoped>\n",
       "    .dataframe tbody tr th:only-of-type {\n",
       "        vertical-align: middle;\n",
       "    }\n",
       "\n",
       "    .dataframe tbody tr th {\n",
       "        vertical-align: top;\n",
       "    }\n",
       "\n",
       "    .dataframe thead th {\n",
       "        text-align: right;\n",
       "    }\n",
       "</style>\n",
       "<table border=\"1\" class=\"dataframe\">\n",
       "  <thead>\n",
       "    <tr style=\"text-align: right;\">\n",
       "      <th></th>\n",
       "      <th>Sensor_ID</th>\n",
       "      <th>Date_Time</th>\n",
       "      <th>Hourly_Counts</th>\n",
       "    </tr>\n",
       "  </thead>\n",
       "  <tbody>\n",
       "    <tr>\n",
       "      <th>0</th>\n",
       "      <td>1</td>\n",
       "      <td>2021-05-01</td>\n",
       "      <td>27088</td>\n",
       "    </tr>\n",
       "    <tr>\n",
       "      <th>1</th>\n",
       "      <td>1</td>\n",
       "      <td>2021-05-02</td>\n",
       "      <td>20061</td>\n",
       "    </tr>\n",
       "    <tr>\n",
       "      <th>2</th>\n",
       "      <td>1</td>\n",
       "      <td>2021-05-03</td>\n",
       "      <td>14106</td>\n",
       "    </tr>\n",
       "    <tr>\n",
       "      <th>3</th>\n",
       "      <td>1</td>\n",
       "      <td>2021-05-04</td>\n",
       "      <td>14656</td>\n",
       "    </tr>\n",
       "    <tr>\n",
       "      <th>4</th>\n",
       "      <td>1</td>\n",
       "      <td>2021-05-05</td>\n",
       "      <td>18992</td>\n",
       "    </tr>\n",
       "    <tr>\n",
       "      <th>...</th>\n",
       "      <td>...</td>\n",
       "      <td>...</td>\n",
       "      <td>...</td>\n",
       "    </tr>\n",
       "    <tr>\n",
       "      <th>2089</th>\n",
       "      <td>78</td>\n",
       "      <td>2021-05-27</td>\n",
       "      <td>430</td>\n",
       "    </tr>\n",
       "    <tr>\n",
       "      <th>2090</th>\n",
       "      <td>78</td>\n",
       "      <td>2021-05-28</td>\n",
       "      <td>362</td>\n",
       "    </tr>\n",
       "    <tr>\n",
       "      <th>2091</th>\n",
       "      <td>78</td>\n",
       "      <td>2021-05-29</td>\n",
       "      <td>796</td>\n",
       "    </tr>\n",
       "    <tr>\n",
       "      <th>2092</th>\n",
       "      <td>78</td>\n",
       "      <td>2021-05-30</td>\n",
       "      <td>1265</td>\n",
       "    </tr>\n",
       "    <tr>\n",
       "      <th>2093</th>\n",
       "      <td>78</td>\n",
       "      <td>2021-05-31</td>\n",
       "      <td>514</td>\n",
       "    </tr>\n",
       "  </tbody>\n",
       "</table>\n",
       "<p>2094 rows × 3 columns</p>\n",
       "</div>"
      ],
      "text/plain": [
       "      Sensor_ID   Date_Time  Hourly_Counts\n",
       "0             1  2021-05-01          27088\n",
       "1             1  2021-05-02          20061\n",
       "2             1  2021-05-03          14106\n",
       "3             1  2021-05-04          14656\n",
       "4             1  2021-05-05          18992\n",
       "...         ...         ...            ...\n",
       "2089         78  2021-05-27            430\n",
       "2090         78  2021-05-28            362\n",
       "2091         78  2021-05-29            796\n",
       "2092         78  2021-05-30           1265\n",
       "2093         78  2021-05-31            514\n",
       "\n",
       "[2094 rows x 3 columns]"
      ]
     },
     "execution_count": 8,
     "metadata": {},
     "output_type": "execute_result"
    }
   ],
   "source": [
    "df21 = daily_count_bysensor_inMay(count_21)\n",
    "df21"
   ]
  },
  {
   "cell_type": "code",
   "execution_count": 9,
   "id": "careful-cover",
   "metadata": {},
   "outputs": [
    {
     "data": {
      "text/html": [
       "<div>\n",
       "<style scoped>\n",
       "    .dataframe tbody tr th:only-of-type {\n",
       "        vertical-align: middle;\n",
       "    }\n",
       "\n",
       "    .dataframe tbody tr th {\n",
       "        vertical-align: top;\n",
       "    }\n",
       "\n",
       "    .dataframe thead th {\n",
       "        text-align: right;\n",
       "    }\n",
       "</style>\n",
       "<table border=\"1\" class=\"dataframe\">\n",
       "  <thead>\n",
       "    <tr style=\"text-align: right;\">\n",
       "      <th></th>\n",
       "      <th>Sensor_ID</th>\n",
       "      <th>Date_Time</th>\n",
       "      <th>Hourly_Counts</th>\n",
       "    </tr>\n",
       "  </thead>\n",
       "  <tbody>\n",
       "    <tr>\n",
       "      <th>0</th>\n",
       "      <td>1</td>\n",
       "      <td>2022-05-01</td>\n",
       "      <td>20289</td>\n",
       "    </tr>\n",
       "    <tr>\n",
       "      <th>1</th>\n",
       "      <td>1</td>\n",
       "      <td>2022-05-02</td>\n",
       "      <td>16227</td>\n",
       "    </tr>\n",
       "    <tr>\n",
       "      <th>2</th>\n",
       "      <td>1</td>\n",
       "      <td>2022-05-03</td>\n",
       "      <td>16411</td>\n",
       "    </tr>\n",
       "    <tr>\n",
       "      <th>3</th>\n",
       "      <td>1</td>\n",
       "      <td>2022-05-04</td>\n",
       "      <td>15553</td>\n",
       "    </tr>\n",
       "    <tr>\n",
       "      <th>4</th>\n",
       "      <td>1</td>\n",
       "      <td>2022-05-05</td>\n",
       "      <td>18460</td>\n",
       "    </tr>\n",
       "    <tr>\n",
       "      <th>...</th>\n",
       "      <td>...</td>\n",
       "      <td>...</td>\n",
       "      <td>...</td>\n",
       "    </tr>\n",
       "    <tr>\n",
       "      <th>2000</th>\n",
       "      <td>86</td>\n",
       "      <td>2022-05-27</td>\n",
       "      <td>1652</td>\n",
       "    </tr>\n",
       "    <tr>\n",
       "      <th>2001</th>\n",
       "      <td>86</td>\n",
       "      <td>2022-05-28</td>\n",
       "      <td>1611</td>\n",
       "    </tr>\n",
       "    <tr>\n",
       "      <th>2002</th>\n",
       "      <td>86</td>\n",
       "      <td>2022-05-29</td>\n",
       "      <td>1398</td>\n",
       "    </tr>\n",
       "    <tr>\n",
       "      <th>2003</th>\n",
       "      <td>86</td>\n",
       "      <td>2022-05-30</td>\n",
       "      <td>1007</td>\n",
       "    </tr>\n",
       "    <tr>\n",
       "      <th>2004</th>\n",
       "      <td>86</td>\n",
       "      <td>2022-05-31</td>\n",
       "      <td>6</td>\n",
       "    </tr>\n",
       "  </tbody>\n",
       "</table>\n",
       "<p>2005 rows × 3 columns</p>\n",
       "</div>"
      ],
      "text/plain": [
       "      Sensor_ID   Date_Time  Hourly_Counts\n",
       "0             1  2022-05-01          20289\n",
       "1             1  2022-05-02          16227\n",
       "2             1  2022-05-03          16411\n",
       "3             1  2022-05-04          15553\n",
       "4             1  2022-05-05          18460\n",
       "...         ...         ...            ...\n",
       "2000         86  2022-05-27           1652\n",
       "2001         86  2022-05-28           1611\n",
       "2002         86  2022-05-29           1398\n",
       "2003         86  2022-05-30           1007\n",
       "2004         86  2022-05-31              6\n",
       "\n",
       "[2005 rows x 3 columns]"
      ]
     },
     "execution_count": 9,
     "metadata": {},
     "output_type": "execute_result"
    }
   ],
   "source": [
    "df22 = daily_count_bysensor_inMay(count_22)\n",
    "df22"
   ]
  },
  {
   "cell_type": "code",
   "execution_count": null,
   "id": "quiet-bloom",
   "metadata": {},
   "outputs": [],
   "source": [
    "def q9():\n",
    "    # compute daily count for each sensor in May of 21 and 22\n",
    "    df21 = daily_count_bysensor_inMay(count_21)\n",
    "    df22 = daily_count_bysensor_inMay(count_22)\n",
    "    \n",
    "    "
   ]
  },
  {
   "cell_type": "code",
   "execution_count": 11,
   "id": "f9a659cc",
   "metadata": {
    "scrolled": true
   },
   "outputs": [
    {
     "data": {
      "text/html": [
       "<div>\n",
       "<style scoped>\n",
       "    .dataframe tbody tr th:only-of-type {\n",
       "        vertical-align: middle;\n",
       "    }\n",
       "\n",
       "    .dataframe tbody tr th {\n",
       "        vertical-align: top;\n",
       "    }\n",
       "\n",
       "    .dataframe thead th {\n",
       "        text-align: right;\n",
       "    }\n",
       "</style>\n",
       "<table border=\"1\" class=\"dataframe\">\n",
       "  <thead>\n",
       "    <tr style=\"text-align: right;\">\n",
       "      <th></th>\n",
       "      <th>Morning</th>\n",
       "      <th>Lunch</th>\n",
       "      <th>Evening</th>\n",
       "    </tr>\n",
       "  </thead>\n",
       "  <tbody>\n",
       "    <tr>\n",
       "      <th>mean</th>\n",
       "      <td>343.105285</td>\n",
       "      <td>560.907963</td>\n",
       "      <td>612.592812</td>\n",
       "    </tr>\n",
       "    <tr>\n",
       "      <th>medium</th>\n",
       "      <td>209.000000</td>\n",
       "      <td>351.000000</td>\n",
       "      <td>375.000000</td>\n",
       "    </tr>\n",
       "    <tr>\n",
       "      <th>min</th>\n",
       "      <td>0.000000</td>\n",
       "      <td>0.000000</td>\n",
       "      <td>0.000000</td>\n",
       "    </tr>\n",
       "    <tr>\n",
       "      <th>max</th>\n",
       "      <td>2326.000000</td>\n",
       "      <td>7080.000000</td>\n",
       "      <td>8226.000000</td>\n",
       "    </tr>\n",
       "  </tbody>\n",
       "</table>\n",
       "</div>"
      ],
      "text/plain": [
       "            Morning        Lunch      Evening\n",
       "mean     343.105285   560.907963   612.592812\n",
       "medium   209.000000   351.000000   375.000000\n",
       "min        0.000000     0.000000     0.000000\n",
       "max     2326.000000  7080.000000  8226.000000"
      ]
     },
     "execution_count": 11,
     "metadata": {},
     "output_type": "execute_result"
    }
   ],
   "source": [
    "def compute_stats(lst):\n",
    "    return [np.mean(lst), np.median(lst), min(lst), max(lst)]\n",
    "\n",
    "def q1():\n",
    "    # Import count 2022 data\n",
    "    count_22 = pd.read_csv(\"../processed_data/count_22.csv\").iloc[:,1:]\n",
    "    count_22['Date_Time'] = pd.to_datetime(count_22['Date_Time'])\n",
    "    # omit Saturday and Sunday \n",
    "    count_22.drop(count_22.loc[count_22['Day']=='Saturday'].index, inplace=True)\n",
    "    count_22.drop(count_22.loc[count_22['Day']=='Sunday'].index, inplace=True)\n",
    "    # define three periods \n",
    "    morning_start = 8\n",
    "    morning_end = 9\n",
    "    lunch_start = 13\n",
    "    lunch_end = 14\n",
    "    evening_start = 17\n",
    "    evening_end = 18\n",
    "    # select three time periods \n",
    "    mask_morning = (count_22['Time'] >= morning_start) & (count_22['Time'] <= morning_end)\n",
    "    morning = count_22.loc[mask_morning] \n",
    "    mask_lunch = (count_22['Time'] >= lunch_start) & (count_22['Time'] <= lunch_end)\n",
    "    lunch = count_22.loc[mask_lunch]\n",
    "    mask_evening = (count_22['Time'] >= evening_start) & (count_22['Time'] <= evening_end)\n",
    "    evening = count_22.loc[mask_evening]\n",
    "    # compute stats \n",
    "    morning_stats = compute_stats(morning.Hourly_Counts)\n",
    "    lunch_stats = compute_stats(lunch.Hourly_Counts)\n",
    "    evening_stats = compute_stats(evening.Hourly_Counts)\n",
    "    stats_df = pd.DataFrame(list(zip(morning_stats, lunch_stats, evening_stats)), columns =['Morning', 'Lunch', 'Evening'], \\\n",
    "                     index =['mean', 'medium', 'min', 'max'])\n",
    "    return stats_df\n",
    "\n",
    "q1()"
   ]
  },
  {
   "cell_type": "markdown",
   "id": "derived-plenty",
   "metadata": {},
   "source": [
    "## Q2 \n",
    "\n",
    "Let the daily overall pedestrian count be the total number of pedestrians counted by sensors on a particular\n",
    "day. For each of 2021, 2022, generate a scatter plot of maximum temperature (x axis) and daily overall\n",
    "pedestrian count (y axis)"
   ]
  },
  {
   "cell_type": "code",
   "execution_count": null,
   "id": "associate-system",
   "metadata": {},
   "outputs": [],
   "source": [
    "def daily_count(filename):\n",
    "    df = pd.read_csv(filename).iloc[:,1:]\n",
    "    df['Date_Time'] = pd.to_datetime(df['Date_Time'])\n",
    "    s = df.groupby([df['Date_Time'].dt.date], as_index=True)['Hourly_Counts'].sum()\n",
    "    new_df = s.to_frame(name=\"Hourly_Counts\")\n",
    "    new_df.reset_index(inplace=True)\n",
    "    return new_df"
   ]
  },
  {
   "cell_type": "code",
   "execution_count": null,
   "id": "practical-advocacy",
   "metadata": {},
   "outputs": [],
   "source": [
    "def scatter_plot(x, y):\n",
    "    plt.scatter(x, y)\n",
    "    plt.show()"
   ]
  },
  {
   "cell_type": "code",
   "execution_count": 42,
   "id": "extreme-launch",
   "metadata": {},
   "outputs": [
    {
     "data": {
      "image/png": "[encoded data removed]",
      "text/plain": [
       "<Figure size 432x288 with 1 Axes>"
      ]
     },
     "metadata": {
      "needs_background": "light"
     },
     "output_type": "display_data"
    },
    {
     "data": {
      "image/png": "[encoded data removed]",
      "text/plain": [
       "<Figure size 432x288 with 1 Axes>"
      ]
     },
     "metadata": {
      "needs_background": "light"
     },
     "output_type": "display_data"
    }
   ],
   "source": [
    "def q2(): \n",
    "    # calculate daily overall pedestrain count\n",
    "    daily_count_21 = daily_count(\"../processed_data/count_21.csv\")\n",
    "    daily_count_22 = daily_count(\"../processed_data/count_22.csv\")\n",
    "    # get the maximum temp \n",
    "    temp_21 = pd.read_csv(\"../processed_data/temp_21.csv\").iloc[:,1:]\n",
    "    temp_21['Date'] = pd.to_datetime(temp_21['Date'])\n",
    "    temp_22 = pd.read_csv(\"../processed_data/temp_22.csv\").iloc[:,1:]\n",
    "    temp_22['Date'] = pd.to_datetime(temp_22['Date'])\n",
    "    # generate scatter plot\n",
    "    scatter_plot(temp_21['Maximum temperature (Degree C)'], daily_count_21['Hourly_Counts'])\n",
    "    scatter_plot(temp_22['Maximum temperature (Degree C)'], daily_count_22['Hourly_Counts'])\n",
    "    \n",
    "q2()"
   ]
  },
  {
   "cell_type": "markdown",
   "id": "corresponding-costa",
   "metadata": {},
   "source": [
    "## Q3\n",
    "\n",
    "For each of 2021, 2022, generate a scatter plot of rainfall (x axis) and daily overall pedestrian count (y axis)"
   ]
  },
  {
   "cell_type": "code",
   "execution_count": 43,
   "id": "sonic-exhibition",
   "metadata": {},
   "outputs": [
    {
     "data": {
      "image/png": "[encoded data removed]",
      "text/plain": [
       "<Figure size 432x288 with 1 Axes>"
      ]
     },
     "metadata": {
      "needs_background": "light"
     },
     "output_type": "display_data"
    },
    {
     "data": {
      "image/png": "[encoded data removed]",
      "text/plain": [
       "<Figure size 432x288 with 1 Axes>"
      ]
     },
     "metadata": {
      "needs_background": "light"
     },
     "output_type": "display_data"
    }
   ],
   "source": [
    "def q3(): \n",
    "    # calculate daily overall pedestrain count\n",
    "    daily_count_21 = daily_count(\"../processed_data/count_21.csv\")\n",
    "    daily_count_22 = daily_count(\"../processed_data/count_22.csv\")\n",
    "    # get the maximum temp \n",
    "    rain_21 = pd.read_csv(\"../processed_data/rain_21.csv\").iloc[:,1:]\n",
    "    rain_21['Date'] = pd.to_datetime(rain_21['Date'])\n",
    "    rain_22 = pd.read_csv(\"../processed_data/rain_22.csv\").iloc[:,1:]\n",
    "    rain_22['Date'] = pd.to_datetime(rain_22['Date'])\n",
    "    # generate scatter plot\n",
    "    scatter_plot(rain_21['Rainfall amount (millimetres)'], daily_count_21['Hourly_Counts'])\n",
    "    scatter_plot(rain_22['Rainfall amount (millimetres)'], daily_count_22['Hourly_Counts'])\n",
    "    \n",
    "q3()"
   ]
  },
  {
   "cell_type": "markdown",
   "id": "faced-carter",
   "metadata": {},
   "source": [
    "## Q4\n",
    "\n",
    "For each of 2021, 2022, generate a scatter plot of solar exposure (x axis) and daily overall pedestrian count (y axis)"
   ]
  },
  {
   "cell_type": "code",
   "execution_count": 44,
   "id": "pursuant-marriage",
   "metadata": {},
   "outputs": [
    {
     "data": {
      "image/png": "[encoded data removed]",
      "text/plain": [
       "<Figure size 432x288 with 1 Axes>"
      ]
     },
     "metadata": {
      "needs_background": "light"
     },
     "output_type": "display_data"
    },
    {
     "data": {
      "image/png": "[encoded data removed]",
      "text/plain": [
       "<Figure size 432x288 with 1 Axes>"
      ]
     },
     "metadata": {
      "needs_background": "light"
     },
     "output_type": "display_data"
    }
   ],
   "source": [
    "def q4(): \n",
    "    # calculate daily overall pedestrain count\n",
    "    daily_count_21 = daily_count(\"../processed_data/count_21.csv\")\n",
    "    daily_count_22 = daily_count(\"../processed_data/count_22.csv\")\n",
    "    # get the maximum temp \n",
    "    solar_21 = pd.read_csv(\"../processed_data/solar_21.csv\").iloc[:,1:]\n",
    "    solar_21['Date'] = pd.to_datetime(solar_21['Date'])\n",
    "    solar_22 = pd.read_csv(\"../processed_data/solar_22.csv\").iloc[:,1:]\n",
    "    solar_22['Date'] = pd.to_datetime(solar_22['Date'])\n",
    "    # generate scatter plot\n",
    "    scatter_plot(solar_21['Daily global solar exposure (MJ/m*m)'], daily_count_21['Hourly_Counts'])\n",
    "    scatter_plot(solar_22['Daily global solar exposure (MJ/m*m)'], daily_count_22['Hourly_Counts'])\n",
    "    \n",
    "q4()"
   ]
  },
  {
   "cell_type": "markdown",
   "id": "unique-container",
   "metadata": {},
   "source": [
    "## Q5\n",
    "\n",
    "For each of 2021, 2022, generate a histogram showing how busy (mean daily overall pedestrian count y axis)\n",
    "each day of the week (x axis) is."
   ]
  },
  {
   "cell_type": "code",
   "execution_count": 46,
   "id": "divine-chapter",
   "metadata": {},
   "outputs": [],
   "source": [
    "def mean_daily_count(filename):\n",
    "    df = pd.read_csv(filename).iloc[:,1:]\n",
    "    df['Date_Time'] = pd.to_datetime(df['Date_Time'])\n",
    "    s = df.groupby([df['Date_Time'].dt.date, df['Day']])['Hourly_Counts'].mean()\n",
    "    new_df = s.to_frame(name=\"Hourly_Counts\")\n",
    "    new_df.reset_index(inplace=True)\n",
    "    return new_df"
   ]
  },
  {
   "cell_type": "raw",
   "id": "alpha-logging",
   "metadata": {},
   "source": [
    "# redundant function \n",
    "SORTER = ['Sunday', 'Monday', 'Tuesday', 'Wednesday', 'Thursday', 'Friday', 'Saturday']\n",
    "SORTERINDEX = dict(zip(SORTER,range(len(SORTER))))\n",
    "\n",
    "def groupby_dow(df):\n",
    "    s = df.groupby(df['Day'], as_index = True)['Hourly_Counts'].mean()\n",
    "    new_df = s.to_frame(name=\"Hourly_Counts\")\n",
    "    new_df.reset_index(inplace=True)\n",
    "    new_df['Day'] = new_df['Day'].map(SORTERINDEX)\n",
    "    new_df.sort_values('Day', inplace=True)\n",
    "    return new_df"
   ]
  },
  {
   "cell_type": "raw",
   "id": "gothic-still",
   "metadata": {},
   "source": [
    "# redundant function \n",
    "def bar_chart(data):\n",
    "    # attribute: https://python-course.eu/numerical-programming/histograms-with-matplotlib.php \n",
    "    ##################### formatter = FuncFormatter(millions)\n",
    "    days = ('Sunday', 'Monday', 'Tuesday', 'Wednesday', 'Thursday', 'Friday', 'Saturday')\n",
    "    fig, ax = plt.subplots()\n",
    "    ##################### ax.yaxis.set_major_formatter(formatter)\n",
    "    ax.bar(x=np.arange(len(data)), # The x coordinates of the bars. \n",
    "           height=data, # the height(s) of the vars \n",
    "           color=\"green\", \n",
    "           align=\"center\",\n",
    "           tick_label=days)\n",
    "    ax.set_ylabel('mean daily overall pedestrian count')\n",
    "    ax.set_title('histogram showing how busy...')\n",
    "    plt.show()\n",
    "\n",
    "# calculate daily overall pedestrain count\n",
    "mean_daily_count_21 = mean_daily_count(\"../processed_data/count_21.csv\")\n",
    "mean_daily_count_22 = mean_daily_count(\"../processed_data/count_22.csv\")\n",
    "# sum over day of week \n",
    "dayofweek_21 = groupby_dow(mean_daily_count_21)\n",
    "bar_chart(dayofweek_21.Hourly_Counts)"
   ]
  },
  {
   "cell_type": "code",
   "execution_count": 70,
   "id": "beautiful-diana",
   "metadata": {},
   "outputs": [],
   "source": [
    "def histogram(data):\n",
    "    plt.hist(data, bins=50)\n",
    "    plt.xlabel('data')\n",
    "    plt.ylabel('something')\n",
    "    plt.title('Histogram...')\n",
    "    plt.show()\n"
   ]
  },
  {
   "cell_type": "code",
   "execution_count": 72,
   "id": "permanent-railway",
   "metadata": {},
   "outputs": [
    {
     "data": {
      "image/png": "[encoded data removed]",
      "text/plain": [
       "<Figure size 540x252 with 1 Axes>"
      ]
     },
     "metadata": {
      "needs_background": "light"
     },
     "output_type": "display_data"
    }
   ],
   "source": [
    "def q5(): \n",
    "    # calculate daily overall pedestrain count\n",
    "    daily_count_21 = daily_count(\"../processed_data/count_21.csv\")\n",
    "    daily_count_22 = daily_count(\"../processed_data/count_22.csv\")\n",
    "    # plot historgram \n",
    "    histogram(daily_count_21.Hourly_Counts)\n",
    "    \n",
    "    \n",
    "q5()"
   ]
  },
  {
   "cell_type": "code",
   "execution_count": null,
   "id": "sublime-poker",
   "metadata": {},
   "outputs": [],
   "source": []
  },
  {
   "cell_type": "code",
   "execution_count": 65,
   "id": "incredible-nomination",
   "metadata": {},
   "outputs": [
    {
     "data": {
      "text/plain": [
       "0      246.862562\n",
       "1      217.101368\n",
       "2      189.378788\n",
       "3      169.097854\n",
       "4      191.653607\n",
       "          ...    \n",
       "360    336.664216\n",
       "361    358.600490\n",
       "362    331.718750\n",
       "363    288.950980\n",
       "364     90.058824\n",
       "Name: Hourly_Counts, Length: 365, dtype: float64"
      ]
     },
     "execution_count": 65,
     "metadata": {},
     "output_type": "execute_result"
    }
   ],
   "source": [
    "mean_daily_count_21.Hourly_Counts"
   ]
  },
  {
   "cell_type": "code",
   "execution_count": 52,
   "id": "becoming-wages",
   "metadata": {},
   "outputs": [],
   "source": [
    "mean_daily_count_21 = mean_daily_count(\"../processed_data/count_21.csv\")\n",
    "mean_daily_count_22 = mean_daily_count(\"../processed_data/count_22.csv\")"
   ]
  },
  {
   "cell_type": "code",
   "execution_count": 54,
   "id": "inappropriate-server",
   "metadata": {},
   "outputs": [
    {
     "data": {
      "text/plain": [
       "Day\n",
       "Friday       252.719754\n",
       "Monday       204.668958\n",
       "Saturday     272.889509\n",
       "Sunday       227.231160\n",
       "Thursday     238.024131\n",
       "Tuesday      218.456604\n",
       "Wednesday    229.861630\n",
       "Name: Hourly_Counts, dtype: float64"
      ]
     },
     "execution_count": 54,
     "metadata": {},
     "output_type": "execute_result"
    }
   ],
   "source": [
    "dayofweek_21 = mean_daily_count_21.groupby(mean_daily_count_21['Day'])['Hourly_Counts'].mean()\n",
    "dayofweek_21"
   ]
  },
  {
   "cell_type": "code",
   "execution_count": null,
   "id": "banned-thriller",
   "metadata": {},
   "outputs": [],
   "source": []
  },
  {
   "cell_type": "code",
   "execution_count": null,
   "id": "known-lexington",
   "metadata": {},
   "outputs": [],
   "source": []
  },
  {
   "cell_type": "code",
   "execution_count": null,
   "id": "69370c8d",
   "metadata": {},
   "outputs": [],
   "source": []
  }
 ],
 "metadata": {
  "kernelspec": {
   "display_name": "Python 3",
   "language": "python",
   "name": "python3"
  },
  "language_info": {
   "codemirror_mode": {
    "name": "ipython",
    "version": 3
   },
   "file_extension": ".py",
   "mimetype": "text/x-python",
   "name": "python",
   "nbconvert_exporter": "python",
   "pygments_lexer": "ipython3",
   "version": "3.9.2"
  },
  "varInspector": {
   "cols": {
    "lenName": 16,
    "lenType": 16,
    "lenVar": 40
   },
   "kernels_config": {
    "python": {
     "delete_cmd_postfix": "",
     "delete_cmd_prefix": "del ",
     "library": "var_list.py",
     "varRefreshCmd": "print(var_dic_list())"
    },
    "r": {
     "delete_cmd_postfix": ") ",
     "delete_cmd_prefix": "rm(",
     "library": "var_list.r",
     "varRefreshCmd": "cat(var_dic_list()) "
    }
   },
   "types_to_exclude": [
    "module",
    "function",
    "builtin_function_or_method",
    "instance",
    "_Feature"
   ],
   "window_display": false
  }
 },
 "nbformat": 4,
 "nbformat_minor": 5
}
