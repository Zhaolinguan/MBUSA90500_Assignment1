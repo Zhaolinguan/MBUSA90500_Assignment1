{
 "cells": [
  {
   "cell_type": "markdown",
   "id": "81835788",
   "metadata": {},
   "source": [
    "# Preprocess Weather data\n"
   ]
  },
  {
   "cell_type": "code",
   "execution_count": 24,
   "id": "eb5c5e7f",
   "metadata": {},
   "outputs": [],
   "source": [
    "# Imports\n",
    "import matplotlib.pyplot as plt\n",
    "import matplotlib.dates as mdates\n",
    "import numpy as np\n",
    "import pandas as pd\n",
    "import seaborn as sns\n",
    "import glob\n",
    "import os\n",
    "import time\n",
    "from zipfile import ZipFile\n",
    "%matplotlib inline\n",
    "from pandas.api.types import CategoricalDtype\n",
    "import warnings\n",
    "warnings.filterwarnings(\"ignore\")\n"
   ]
  },
  {
   "cell_type": "markdown",
   "id": "03b32c32",
   "metadata": {},
   "source": [
    "## Step 1: Import data"
   ]
  },
  {
   "cell_type": "code",
   "execution_count": 26,
   "id": "5bf9ace4",
   "metadata": {},
   "outputs": [],
   "source": [
    "# extract rainfall data \n",
    "with ZipFile('../raw_data/rainfall-all-years.zip', 'r') as zipObj:\n",
    "    zipObj.extractall('../raw_data/rainfall')\n",
    "# extract solar data \n",
    "with ZipFile('../raw_data/solar-all-years.zip', 'r') as zipObj:\n",
    "    zipObj.extractall('../raw_data/solar')\n",
    "# extract rainfall data \n",
    "with ZipFile('../raw_data/temperature-all-years.zip', 'r') as zipObj:\n",
    "    zipObj.extractall('../raw_data/temperature')"
   ]
  },
  {
   "cell_type": "code",
   "execution_count": 27,
   "id": "designed-replica",
   "metadata": {},
   "outputs": [],
   "source": [
    "# import raw data \n",
    "rainfall_raw = pd.read_csv(\"../raw_data/rainfall/IDCJAC0009_086338_1800_Data.csv\")\n",
    "solar_raw = pd.read_csv(\"../raw_data/solar/IDCJAC0016_086338_1800_Data.csv\")\n",
    "temp_raw = pd.read_csv(\"../raw_data/temperature/IDCJAC0010_086338_1800_Data.csv\")"
   ]
  },
  {
   "cell_type": "markdown",
   "id": "rental-beast",
   "metadata": {},
   "source": [
    "## Step 2: Dimension Reduction "
   ]
  },
  {
   "cell_type": "code",
   "execution_count": 28,
   "id": "split-xerox",
   "metadata": {},
   "outputs": [],
   "source": [
    "start_date_2021 = '2021-01-01'\n",
    "end_date_2021 = '2021-12-31'\n",
    "start_date_2022 = '2022-01-01'\n",
    "end_date_2022 = '2022-05-31'\n",
    "\n",
    "def date_filter(df):\n",
    "    # attribute: https://stacrainfall_rawkoverflow.com/questions/58072683/combine-year-month-and-day-in-python-to-create-a-date\n",
    "    df['dateInt']=df['Year'].astype(str) + df['Month'].astype(str).str.zfill(2)+ df['Day'].astype(str).str.zfill(2)\n",
    "    df['Date'] = pd.to_datetime(df['dateInt'], format='%Y%m%d')\n",
    "    df.drop(['Year', 'Month', 'Day', 'dateInt'], axis=1, inplace=True)\n",
    "    # find all 2021 data \n",
    "    mask_21 = (df['Date'] >= start_date_2021) & (df['Date'] <= end_date_2021)\n",
    "    df_21 = df.loc[mask_21] \n",
    "    # find all 2022 data \n",
    "    mask_22 = (df['Date'] >= start_date_2022) & (df['Date'] <= end_date_2022)\n",
    "    df_22 = df.loc[mask_22]\n",
    "    return df_21, df_22"
   ]
  },
  {
   "cell_type": "code",
   "execution_count": 29,
   "id": "improved-mentor",
   "metadata": {},
   "outputs": [],
   "source": [
    "rain_21, rain_22 = date_filter(rainfall_raw)\n",
    "solar_21, solar_22 = date_filter(solar_raw)\n",
    "temp_21, temp_22 = date_filter(temp_raw)"
   ]
  },
  {
   "cell_type": "markdown",
   "id": "adverse-republican",
   "metadata": {},
   "source": [
    "## Step 3: Save on desk"
   ]
  },
  {
   "cell_type": "code",
   "execution_count": 30,
   "id": "7510f6e6",
   "metadata": {},
   "outputs": [],
   "source": [
    "rain_21.to_csv('../processed_data/rain_21.csv',header=True)\n",
    "rain_22.to_csv('../processed_data/rain_22.csv',header=True)\n",
    "\n",
    "solar_21.to_csv('../processed_data/solar_21.csv',header=True)\n",
    "solar_22.to_csv('../processed_data/solar_22.csv',header=True)\n",
    "\n",
    "temp_21.to_csv('../processed_data/temp_21.csv',header=True)\n",
    "temp_22.to_csv('../processed_data/temp_22.csv',header=True)"
   ]
  },
  {
   "cell_type": "code",
   "execution_count": null,
   "id": "electoral-stationery",
   "metadata": {},
   "outputs": [],
   "source": []
  },
  {
   "cell_type": "code",
   "execution_count": null,
   "id": "available-motion",
   "metadata": {},
   "outputs": [],
   "source": []
  }
 ],
 "metadata": {
  "kernelspec": {
   "display_name": "Python 3",
   "language": "python",
   "name": "python3"
  },
  "language_info": {
   "codemirror_mode": {
    "name": "ipython",
    "version": 3
   },
   "file_extension": ".py",
   "mimetype": "text/x-python",
   "name": "python",
   "nbconvert_exporter": "python",
   "pygments_lexer": "ipython3",
   "version": "3.9.2"
  },
  "varInspector": {
   "cols": {
    "lenName": 16,
    "lenType": 16,
    "lenVar": 40
   },
   "kernels_config": {
    "python": {
     "delete_cmd_postfix": "",
     "delete_cmd_prefix": "del ",
     "library": "var_list.py",
     "varRefreshCmd": "print(var_dic_list())"
    },
    "r": {
     "delete_cmd_postfix": ") ",
     "delete_cmd_prefix": "rm(",
     "library": "var_list.r",
     "varRefreshCmd": "cat(var_dic_list()) "
    }
   },
   "types_to_exclude": [
    "module",
    "function",
    "builtin_function_or_method",
    "instance",
    "_Feature"
   ],
   "window_display": false
  }
 },
 "nbformat": 4,
 "nbformat_minor": 5
}
